{
  "nbformat": 4,
  "nbformat_minor": 0,
  "metadata": {
    "colab": {
      "name": "Data_Analysis&Visualization.ipynb",
      "private_outputs": true,
      "provenance": [],
      "collapsed_sections": []
    },
    "kernelspec": {
      "name": "python3",
      "display_name": "Python 3"
    },
    "language_info": {
      "name": "python"
    }
  },
  "cells": [
    {
      "cell_type": "code",
      "metadata": {
        "id": "9X1A6Xu1C0HE"
      },
      "source": [
        "# !sudo apt-get install -y fonts-nanum\n",
        "# !sudo fc-cache -fv\n",
        "# !rm ~/.cache/matplotlib -rf"
      ],
      "execution_count": null,
      "outputs": []
    },
    {
      "cell_type": "code",
      "metadata": {
        "id": "jLukMo3HCxEu"
      },
      "source": [
        "import pandas as pd\n",
        "import numpy as np\n",
        "import seaborn as sns\n",
        "import re\n",
        "import matplotlib.pyplot as plt\n",
        "import matplotlib as mpl\n",
        "from matplotlib import rcParams\n",
        "from IPython.display import set_matplotlib_formats\n",
        "set_matplotlib_formats('retina')\n",
        "plt.rc('font', family='NanumBarunGothic') \n",
        "mpl.rc('axes', unicode_minus=False)"
      ],
      "execution_count": null,
      "outputs": []
    },
    {
      "cell_type": "code",
      "metadata": {
        "id": "tUNmbaz7CDK6"
      },
      "source": [
        "from google.colab import drive\n",
        "drive.mount('/content/drive')"
      ],
      "execution_count": null,
      "outputs": []
    },
    {
      "cell_type": "code",
      "metadata": {
        "id": "JnNT7KXeCegG"
      },
      "source": [
        "job_clean = pd.read_csv('/content/drive/My Drive/data_job_group.csv')\n",
        "job_clean"
      ],
      "execution_count": null,
      "outputs": []
    },
    {
      "cell_type": "code",
      "metadata": {
        "id": "A3ZrGVpqCtxK"
      },
      "source": [
        "job_clean.describe(include=\"all\")"
      ],
      "execution_count": null,
      "outputs": []
    },
    {
      "cell_type": "code",
      "metadata": {
        "id": "UhrEm2lODGvb"
      },
      "source": [
        "# 설립시기 분포 및 평균 연도\n",
        "sns.displot(job_clean[\"Founded\"]);\n",
        "plt.gcf().set_size_inches(15, 8);\n",
        "\n",
        "print(\"설립시기 평균 연도 :\", round(job_clean[\"Founded\"].mean()),\"년\")\n",
        "plt.axvline(job_clean[\"Founded\"].mean(), color='red');"
      ],
      "execution_count": null,
      "outputs": []
    },
    {
      "cell_type": "code",
      "metadata": {
        "id": "Zn-M6IF7DKBB"
      },
      "source": [
        "# 평균 연봉 분포 및 평균 연봉\n",
        "sns.displot(job_clean[\"Average_Salary\"])\n",
        "plt.gcf().set_size_inches(15, 8)\n",
        "\n",
        "print(\"평균 연봉($) :\", round(job_clean[\"Average_Salary\"].mean()))\n",
        "plt.axvline(job_clean[\"Average_Salary\"].mean(), color='red'); "
      ],
      "execution_count": null,
      "outputs": []
    },
    {
      "cell_type": "code",
      "metadata": {
        "id": "mXnvVp_ZeWIi"
      },
      "source": [
        "# 사업부문 상위 10개 부문 분포\n",
        "job_clean[\"Sector\"].value_counts().head(10).plot.barh();\n",
        "plt.xticks(fontsize=15)\n",
        "plt.yticks(fontsize=15);\n",
        "plt.gca().invert_yaxis()"
      ],
      "execution_count": null,
      "outputs": []
    },
    {
      "cell_type": "code",
      "metadata": {
        "id": "nLtNOv9zfNEL"
      },
      "source": [
        "# 업종 상위 10개 부문 분포\n",
        "job_clean[\"Industry\"].value_counts().head(10).plot.barh();\n",
        "plt.xticks(fontsize=15)\n",
        "plt.yticks(fontsize=15);\n",
        "plt.gca().invert_yaxis()"
      ],
      "execution_count": null,
      "outputs": []
    },
    {
      "cell_type": "code",
      "metadata": {
        "id": "ArlbCBL3fkQH"
      },
      "source": [
        "# 회사 유형 상위 10개 부문\n",
        "job_clean[\"Type of ownership\"].value_counts().head(10).plot.barh();\n",
        "plt.xticks(fontsize=15)\n",
        "plt.yticks(fontsize=15);\n",
        "plt.gca().invert_yaxis()"
      ],
      "execution_count": null,
      "outputs": []
    },
    {
      "cell_type": "code",
      "metadata": {
        "id": "iiheAbVOw5Jc"
      },
      "source": [
        "# 본사 & 현 근무지 일치에 대한 비율\n",
        "LH = job_clean[\"Location=Headquarters\"].value_counts()\n",
        "value = LH.unique()\n",
        "\n",
        "plt.rcParams['figure.figsize'] = [12, 8] \n",
        "plt.pie(value, labels=[\"본사 ≠ 근무지\", \"본사 = 근무지\"], autopct=\"%1.2f%%\", textprops={'fontsize': 20});"
      ],
      "execution_count": null,
      "outputs": []
    },
    {
      "cell_type": "code",
      "metadata": {
        "id": "weT0aQx6goKV"
      },
      "source": [
        "# 본사 근무자, 지사 근무자의 평점 현황\n",
        "sns.barplot(data=job_clean, x=\"Location=Headquarters\", y=\"Rating\", ci=None);"
      ],
      "execution_count": null,
      "outputs": []
    },
    {
      "cell_type": "code",
      "metadata": {
        "id": "HA0qIetRhT6e"
      },
      "source": [
        "# 평균 연봉과 평점의 관계\n",
        "sns.barplot(data=job_clean, x=\"Rating\", y=\"Average_Salary\", ci=None)\n",
        "plt.gcf().set_size_inches(15, 8)\n",
        "plt.axhline(job_clean[\"Average_Salary\"].mean(), color='red'); "
      ],
      "execution_count": null,
      "outputs": []
    },
    {
      "cell_type": "code",
      "metadata": {
        "id": "ai6VSk1LYsY3"
      },
      "source": [
        "# 직종별 평점\n",
        "sns.barplot(data=job_clean, x=\"division\", y=\"Rating\", ci=None)\n",
        "plt.gcf().set_size_inches(15, 8)\n",
        "plt.axhline(job_clean[\"Rating\"].mean(), color='red');"
      ],
      "execution_count": null,
      "outputs": []
    },
    {
      "cell_type": "code",
      "metadata": {
        "id": "5DhkKX_krZ9H"
      },
      "source": [
        "# 회사유형별 평균 평점\n",
        "job_own = pd.pivot_table(job_clean, index=[\"Type of ownership\"], aggfunc=\"mean\").reset_index()\n",
        "job_own = job_own.sort_values(by=\"Rating\", axis=0, ascending=False).round(1)\n",
        "job_own.index = range(len(job_own))\n",
        "\n",
        "count_own = pd.DataFrame(data=job_clean[\"Type of ownership\"].value_counts(), columns=[\"Type of ownership\",\"cnt\"]).reset_index()\n",
        "count_own = count_own.rename(columns={\"index\":\"Type of ownership\", \"Type of ownership\":\"count\"})\n",
        "count_own = count_own[[\"Type of ownership\", \"count\"]]\n",
        "\n",
        "job_own = pd.merge(job_own, count_own, on=\"Type of ownership\")\n",
        "job_own[\"count%\"] = \"\"\n",
        "\n",
        "for i, j in enumerate(job_own[\"count\"]):\n",
        "  job_own[\"count%\"][i] = round(j/sum(job_own[\"count\"])*100, 2)\n",
        "\n",
        "job_own = job_own[[\"Type of ownership\", \"Rating\", \"Average_Salary\", \"Founded\", \"Revenue\", \"Size\", \"count%\"]]\n",
        "\n",
        "sns.barplot(data=job_own, x=\"Rating\", y=\"Type of ownership\", ci=None)\n",
        "plt.gcf().set_size_inches(15, 8)\n",
        "plt.axvline(job_clean[\"Rating\"].mean(), color='red');\n",
        "\n",
        "job_own"
      ],
      "execution_count": null,
      "outputs": []
    },
    {
      "cell_type": "code",
      "metadata": {
        "id": "dqAC0cUKoUOH"
      },
      "source": [
        "# 산업별 평균 평점 상위 20개\n",
        "job_ind = pd.pivot_table(job_clean, index=[\"Industry\"], aggfunc=\"mean\").reset_index()\n",
        "job_ind = job_ind.sort_values(by=\"Rating\", axis=0, ascending=False).round(1)\n",
        "job_ind.index = range(len(job_ind))\n",
        "\n",
        "count_ind = pd.DataFrame(data=job_clean[\"Industry\"].value_counts(), columns=[\"Industry\",\"cnt\"]).reset_index()\n",
        "count_ind = count_ind.rename(columns={\"index\":\"Industry\", \"Industry\":\"count\"})\n",
        "count_ind = count_ind[[\"Industry\", \"count\"]]\n",
        "\n",
        "job_ind = pd.merge(job_ind, count_ind, on=\"Industry\")\n",
        "job_ind[\"count%\"] = \"\"\n",
        "\n",
        "for i, j in enumerate(job_ind[\"count\"]):\n",
        "  job_ind[\"count%\"][i] = round(j/sum(job_ind[\"count\"])*100, 2)\n",
        "\n",
        "job_ind = job_ind[[\"Industry\", \"Rating\", \"Average_Salary\", \"Founded\", \"Revenue\", \"Size\", \"count%\"]]\n",
        "\n",
        "sns.barplot(data=job_ind[:20], x=\"Rating\", y=\"Industry\", ci=None)\n",
        "plt.gcf().set_size_inches(15, 8)\n",
        "plt.axvline(job_clean[\"Rating\"].mean(), color='red');\n",
        "\n",
        "job_ind[:20]"
      ],
      "execution_count": null,
      "outputs": []
    },
    {
      "cell_type": "code",
      "metadata": {
        "id": "MuGNf8pkYsKZ"
      },
      "source": [
        "# 사업부문 별 평균 평점\n",
        "job_sec = pd.pivot_table(job_clean, index=[\"Sector\"], aggfunc=\"mean\").reset_index()\n",
        "job_sec = job_sec.sort_values(by=\"Rating\", axis=0, ascending=False).round(1)\n",
        "job_sec.index = range(len(job_sec))\n",
        "\n",
        "count_sec = pd.DataFrame(data=job_clean[\"Sector\"].value_counts(), columns=[\"Sector\",\"cnt\"]).reset_index()\n",
        "count_sec = count_sec.rename(columns={\"index\":\"Sector\", \"Sector\":\"count\"})\n",
        "count_sec = count_sec[[\"Sector\", \"count\"]]\n",
        "\n",
        "job_sec = pd.merge(job_sec, count_sec, on=\"Sector\")\n",
        "job_sec[\"count%\"] = \"\"\n",
        "\n",
        "for i, j in enumerate(job_sec[\"count\"]):\n",
        "  job_sec[\"count%\"][i] = round(j/sum(job_sec[\"count\"])*100, 2)\n",
        "\n",
        "job_sec = job_sec[[\"Sector\", \"Rating\", \"Average_Salary\", \"Founded\", \"Revenue\", \"Size\", \"count%\"]]\n",
        "\n",
        "sns.barplot(data=job_sec, x=\"Rating\", y=\"Sector\", ci=None)\n",
        "plt.gcf().set_size_inches(15, 8)\n",
        "plt.axvline(job_clean[\"Rating\"].mean(), color='red');\n",
        "\n",
        "job_sec"
      ],
      "execution_count": null,
      "outputs": []
    },
    {
      "cell_type": "code",
      "metadata": {
        "id": "IPg3zFieDJ7k"
      },
      "source": [
        "# 직원규모 별 평균 평점\n",
        "job_size = pd.pivot_table(job_clean, index=[\"Size\"], aggfunc=\"mean\").reset_index()\n",
        "job_size = job_size.sort_values(by=\"Rating\", axis=0, ascending=False).round(1)\n",
        "job_size.index = range(len(job_size))\n",
        "\n",
        "count_size = pd.DataFrame(data=job_clean[\"Size\"].value_counts(), columns=[\"Size\",\"cnt\"]).reset_index()\n",
        "count_size = count_size.rename(columns={\"index\":\"Size\", \"Size\":\"count\"})\n",
        "count_size = count_size[[\"Size\", \"count\"]]\n",
        "\n",
        "job_size = pd.merge(job_size, count_size, on=\"Size\")\n",
        "job_size[\"count%\"] = \"\"\n",
        "\n",
        "for i, j in enumerate(job_size[\"count\"]):\n",
        "  job_size[\"count%\"][i] = round(j/sum(job_size[\"count\"])*100, 2)\n",
        "\n",
        "job_size = job_size[[\"Size\", \"Rating\", \"Average_Salary\", \"Founded\", \"Revenue\", \"count%\"]]\n",
        "\n",
        "sns.barplot(data=job_size, x=\"Size\", y=\"Rating\", ci=None)\n",
        "plt.gcf().set_size_inches(15, 8)\n",
        "plt.axhline(job_clean[\"Rating\"].mean(), color='red');\n",
        "\n",
        "job_size"
      ],
      "execution_count": null,
      "outputs": []
    },
    {
      "cell_type": "code",
      "metadata": {
        "id": "5lh_wcloDJ2o"
      },
      "source": [
        "# 매출 별 평균 평점\n",
        "job_rev = pd.pivot_table(job_clean, index=[\"Revenue\"], aggfunc=\"mean\").reset_index()\n",
        "job_rev = job_rev.sort_values(by=\"Rating\", axis=0, ascending=False).round(1)\n",
        "job_rev.index = range(len(job_rev))\n",
        "\n",
        "count_rev = pd.DataFrame(data=job_clean[\"Revenue\"].value_counts(), columns=[\"Revenue\",\"cnt\"]).reset_index()\n",
        "count_rev = count_rev.rename(columns={\"index\":\"Revenue\", \"Revenue\":\"count\"})\n",
        "count_rev = count_rev[[\"Revenue\", \"count\"]]\n",
        "\n",
        "job_rev = pd.merge(job_rev, count_rev, on=\"Revenue\")\n",
        "job_rev[\"count%\"] = \"\"\n",
        "\n",
        "for i, j in enumerate(job_rev[\"count\"]):\n",
        "  job_rev[\"count%\"][i] = round(j/sum(job_rev[\"count\"])*100, 2)\n",
        "\n",
        "job_rev = job_rev[[\"Revenue\", \"Rating\", \"Average_Salary\", \"Founded\", \"Size\", \"count%\"]]\n",
        "\n",
        "sns.barplot(data=job_rev, x=\"Revenue\", y=\"Rating\", ci=None)\n",
        "plt.gcf().set_size_inches(15, 8)\n",
        "plt.axhline(job_clean[\"Rating\"].mean(), color='red');\n",
        "\n",
        "job_rev"
      ],
      "execution_count": null,
      "outputs": []
    }
  ]
}