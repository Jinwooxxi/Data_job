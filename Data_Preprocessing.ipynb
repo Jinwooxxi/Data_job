{
  "nbformat": 4,
  "nbformat_minor": 0,
  "metadata": {
    "colab": {
      "name": "Data_Preprocessing.ipynb",
      "private_outputs": true,
      "provenance": [],
      "collapsed_sections": []
    },
    "kernelspec": {
      "name": "python3",
      "display_name": "Python 3"
    },
    "language_info": {
      "name": "python"
    }
  },
  "cells": [
    {
      "cell_type": "markdown",
      "metadata": {
        "id": "Rk7pCV-W9e2j"
      },
      "source": [
        "# 모듈 임포트\n"
      ]
    },
    {
      "cell_type": "code",
      "metadata": {
        "id": "1rUZJEaT-nxe"
      },
      "source": [
        "# !pip install -U pandas-profiling\n",
        "# !sudo apt-get install -y fonts-nanum\n",
        "# !sudo fc-cache -fv\n",
        "# !rm ~/.cache/matplotlib -rf"
      ],
      "execution_count": null,
      "outputs": []
    },
    {
      "cell_type": "code",
      "metadata": {
        "id": "MCSTKOPM9EwY"
      },
      "source": [
        "import numpy as np\n",
        "import pandas as pd\n",
        "import pandas_profiling\n",
        "import re\n",
        "import seaborn as sns\n",
        "import matplotlib.pyplot as plt\n",
        "import matplotlib as mpl\n",
        "from matplotlib import rcParams\n",
        "from IPython.display import set_matplotlib_formats\n",
        "set_matplotlib_formats('retina')\n",
        "plt.rc('font', family='NanumBarunGothic') \n",
        "mpl.rc('axes', unicode_minus=False)"
      ],
      "execution_count": null,
      "outputs": []
    },
    {
      "cell_type": "markdown",
      "metadata": {
        "id": "VjRQy3HO9tgq"
      },
      "source": [
        "# 파일 불러오기"
      ]
    },
    {
      "cell_type": "code",
      "metadata": {
        "id": "H25l28Xe9spY"
      },
      "source": [
        "from google.colab import drive\n",
        "drive.mount('/content/drive')"
      ],
      "execution_count": null,
      "outputs": []
    },
    {
      "cell_type": "code",
      "metadata": {
        "id": "oYp01EK7-Fp3"
      },
      "source": [
        "dataanalyst = pd.read_csv('/content/drive/My Drive/DataAnalyst.csv')\n",
        "dataanalyst.drop(columns=\"Unnamed: 0\", axis=1,inplace=True)\n",
        "datascientist = pd.read_csv('/content/drive/My Drive/DataScientist.csv')\n",
        "datascientist.drop(columns=[\"Unnamed: 0\", \"index\"], axis=1,inplace=True)\n",
        "businessanalyst = pd.read_csv('/content/drive/My Drive/BusinessAnalyst.csv', encoding='cp949')\n",
        "businessanalyst.drop(columns=[\"Unnamed: 0\", \"index\"], axis=1,inplace=True)\n",
        "dataengineer = pd.read_csv('/content/drive/My Drive/DataEngineer.csv')\n",
        "\n",
        "dataanalyst.shape, datascientist.shape, businessanalyst.shape, dataengineer.shape"
      ],
      "execution_count": null,
      "outputs": []
    },
    {
      "cell_type": "code",
      "metadata": {
        "id": "2O6gL9uA-Fnj"
      },
      "source": [
        "dataanalyst[\"division\"] = \"data analyst\"\n",
        "datascientist[\"division\"] = \"data scientist\"\n",
        "businessanalyst[\"division\"] = \"business analyst\"\n",
        "dataengineer[\"division\"] = \"data engineer\"\n",
        "\n",
        "job_raw = pd.concat([dataanalyst, datascientist, businessanalyst, dataengineer])\n",
        "job_raw = job_raw.reset_index(drop=\"first\")\n",
        "print(job_raw.shape)\n",
        "job_raw.head()"
      ],
      "execution_count": null,
      "outputs": []
    },
    {
      "cell_type": "markdown",
      "metadata": {
        "id": "0VAPxEWy_x4W"
      },
      "source": [
        "### ※ 데이터 불러오기 및 데이터 정보\n",
        "\n",
        "**데이터 : 미국 데이터 과학자, 분석가, 엔지니어, 비지니스 분석가 구인광고**\n",
        "\n",
        "**데이터 갯수 (12,172ea)**\n",
        "*   Data Analyst : 2,253ea\n",
        "*   Data Scientist : 3,909ea\n",
        "*   Data Engineer : 2,528ea\n",
        "*   Business Analyst : 4,902ea\n",
        "\n",
        "**특성정보 (15 features)**\n",
        "\n",
        "\n",
        "*   Job Title         : 직업 타이틀 \n",
        "*   Salary Estimate   : 연봉\n",
        "*   Job Description   : 직업 설명\n",
        "*   Rating            : 평가 등급\n",
        "*   Company Name      : 회사명\n",
        "*   Location          : 직장 위치\n",
        "*   Headquarters      : 본사 위치\n",
        "*   Size              : 직원 규모\n",
        "*   Founded           : 설립시기\n",
        "*   Type of ownership : 회사유형(사기업, 공기업, 공공기관 등)\n",
        "*   Industry          : 업종\n",
        "*   Sector            : 사업 부문\n",
        "*   Revenue           : 매출 정보\n",
        "*   Competitors       : 경쟁업체\n",
        "*   Easy Apply        : 지원 난이도 (True, -1)"
      ]
    },
    {
      "cell_type": "markdown",
      "metadata": {
        "id": "9FuvLdLL-df8"
      },
      "source": [
        "# 데이터 간략히 보기"
      ]
    },
    {
      "cell_type": "code",
      "metadata": {
        "id": "IC0d3ynL-Fk-"
      },
      "source": [
        "job_raw.profile_report()"
      ],
      "execution_count": null,
      "outputs": []
    },
    {
      "cell_type": "code",
      "metadata": {
        "id": "se9K1c81-Fig"
      },
      "source": [
        "job_raw.isna().sum() # 결측치 대신 -1로 들어가 있는 값들이 많음 -> 추후 처리 예정"
      ],
      "execution_count": null,
      "outputs": []
    },
    {
      "cell_type": "code",
      "metadata": {
        "id": "DoF5zZbB-FgD"
      },
      "source": [
        "job_raw.info() # object type이 대다수, null 미존재(-1로 들어가있음)"
      ],
      "execution_count": null,
      "outputs": []
    },
    {
      "cell_type": "code",
      "metadata": {
        "id": "jB3RCrit-Fd1"
      },
      "source": [
        "job_raw.describe(include=\"all\")"
      ],
      "execution_count": null,
      "outputs": []
    },
    {
      "cell_type": "code",
      "metadata": {
        "id": "TdUB373M-FbX"
      },
      "source": [
        "job_raw.head(1)"
      ],
      "execution_count": null,
      "outputs": []
    },
    {
      "cell_type": "markdown",
      "metadata": {
        "id": "9Y1epPHu_OSL"
      },
      "source": [
        "## ※ 1차 데이터 최적화 (데이터 전처리)\n",
        "### \"-1\" 데이터 처리 \n",
        "\n",
        "*   데이터 중 -1 로 표기된 부분은 전체 삭제처리(전체의 27.3%)\n",
        "*   Competitor, Easy Apply는 추후 수정예정\n",
        "*   전체 데이터가 충분하다고 판단하여 삭제 "
      ]
    },
    {
      "cell_type": "code",
      "metadata": {
        "id": "3EzJz9CD-FZX"
      },
      "source": [
        "np.sort(job_raw[\"Rating\"].unique()) # -1 이상치 혹은 결측치로 예상"
      ],
      "execution_count": null,
      "outputs": []
    },
    {
      "cell_type": "code",
      "metadata": {
        "id": "sHy_6CZ0-FWx"
      },
      "source": [
        "sns.displot(job_raw[\"Rating\"]);"
      ],
      "execution_count": null,
      "outputs": []
    },
    {
      "cell_type": "code",
      "metadata": {
        "id": "eXhHPYHY-FUX"
      },
      "source": [
        "# -1 이 포함된 관측치 확인 후 처리\n",
        "for i in job_raw.columns:\n",
        "  print(\"{} :\".format(i), (job_raw[i] == \"-1\").sum())"
      ],
      "execution_count": null,
      "outputs": []
    },
    {
      "cell_type": "code",
      "metadata": {
        "id": "NXMfSzLm-FSP"
      },
      "source": [
        "for i in job_raw.columns:\n",
        "  print(\"{} :\".format(i), (job_raw[i] == -1).sum())"
      ],
      "execution_count": null,
      "outputs": []
    },
    {
      "cell_type": "markdown",
      "metadata": {
        "id": "sAd0X8H5_kLe"
      },
      "source": [
        "* Salary Estimate   : 1     # 삭제\n",
        "* Headquarters      : 30    # 삭제\n",
        "* Rating            : 1271  # 삭제\n",
        "* Founded           : 3274  # 삭제\n",
        "* Type of ownership : 721   # 삭제\n",
        "* Industry          : 1801  # 삭제\n",
        "* Sector            : 1789  # 삭제\n",
        "* Revenue           : 721   # 삭제\n",
        "* Competitors       : 9228  # -1 : 경쟁없체가 없는 것로 판단하여 0, 그외 경쟁업체 수로 변경 예정\n",
        "* Easy Apply        : 12258 # -1 : 지원하기 어려운것으로 판단하여 0, True는 1로 변경예정"
      ]
    },
    {
      "cell_type": "code",
      "metadata": {
        "id": "a-Hz1N3T-FP_"
      },
      "source": [
        "### feature engineering - \"-1\" 포함된 관측치 삭제\n",
        "job = job_raw[job_raw[\"Rating\"] != -1]\n",
        "job = job[job[\"Industry\"] != \"-1\"]\n",
        "job = job[job[\"Salary Estimate\"] != \"-1\"]\n",
        "job = job[job[\"Headquarters\"] != \"-1\"]\n",
        "job = job[job[\"Founded\"] != -1]\n",
        "job = job[job[\"Size\"] != \"Unknown\"]\n",
        "job = job.reset_index(drop=\"first\")"
      ],
      "execution_count": null,
      "outputs": []
    },
    {
      "cell_type": "code",
      "metadata": {
        "id": "bVvI94IN-FNu"
      },
      "source": [
        "print(\"삭제한 관측치 수 : \", job_raw.shape[0] - job.shape[0])\n",
        "print(\"삭제한 관측치 % : \", round((job_raw.shape[0]-job.shape[0]) / job_raw.shape[0] * 100, 1))"
      ],
      "execution_count": null,
      "outputs": []
    },
    {
      "cell_type": "code",
      "metadata": {
        "id": "xVPhPAIJ-FLZ"
      },
      "source": [
        "print(\"raw data 관측치 수 : \", job_raw.shape[0])\n",
        "print(\"1차 전처리 후 관측치 수 : \", job.shape[0])"
      ],
      "execution_count": null,
      "outputs": []
    },
    {
      "cell_type": "code",
      "metadata": {
        "id": "H6eU_P28-FJS"
      },
      "source": [
        "job"
      ],
      "execution_count": null,
      "outputs": []
    },
    {
      "cell_type": "markdown",
      "metadata": {
        "id": "wFmLTnrXAO6p"
      },
      "source": [
        "#### Revenue(매출액), Size(직원규모) 금액 대신 등급으로 표기\n",
        "\n",
        "*   매출액과 연봉의 경우 구간으로 나타나 있기 때문에 평균 혹은 실제 금액을 추정하기 보다 구간으로 설정하여 가시성을 높임\n",
        "*   등급은 낮은 금액일 경우 1에서 클수록 증가 (매출액은 0-12, 직원 규모는 1-7)\n",
        "*   매출액의 경우 Unknown / Non-Applicable 데이터는 일괄 0으로 변경 "
      ]
    },
    {
      "cell_type": "code",
      "metadata": {
        "id": "LYWHlyObKGwb"
      },
      "source": [
        "print(job[\"Revenue\"].value_counts())\n",
        "print()\n",
        "print(job[\"Size\"].value_counts())"
      ],
      "execution_count": null,
      "outputs": []
    },
    {
      "cell_type": "code",
      "metadata": {
        "id": "Lh2Wjc0kKGsZ"
      },
      "source": [
        "## Revenue\n",
        "# Unknown / Non-Applicable -> 0\n",
        "# Less than $1 million (USD) -> 1 (1,000,000)\n",
        "# $1 to $5 million (USD) -> 2 (2,500,000)\n",
        "# $5 to $10 million (USD) -> 3 (7,500,000)\n",
        "# $10 to $25 million (USD) -> 4 (12,500,000)\n",
        "# $25 to $50 million (USD) -> 5 (37,500,000)\n",
        "# $50 to $100 million (USD) -> 6 (75,000,000)\n",
        "# $100 to $500 million (USD) -> 7 (250,000,000)\n",
        "# $500 million to $1 billion (USD) -> 8 (750,000,000)\n",
        "# $1 to $2 billion (USD) -> 9 (1,500,000,000)\n",
        "# $2 to $5 billion (USD) -> 10 (3,500,000,000)\n",
        "# $5 to $10 billion (USD) -> 11 (7,500,000,000)\n",
        "# $10+ billion (USD) -> 12 (10,000,000,000)\n",
        "\n",
        "# # Size\n",
        "# 1 to 50 employees -> 1\n",
        "# 51 to 200 employees -> 2\n",
        "# 201 to 500 employees -> 3\n",
        "# 501 to 1000 employees -> 4\n",
        "# 1001 to 5000 employees -> 5\n",
        "# 5001 to 10000 employees -> 6\n",
        "# 10000+ employees -> 7"
      ],
      "execution_count": null,
      "outputs": []
    },
    {
      "cell_type": "code",
      "metadata": {
        "id": "LXulH2GzKGoq"
      },
      "source": [
        "job[\"Revenue\"] = job[\"Revenue\"].replace(\"Unknown / Non-Applicable\" , 0).replace(\"Less than $1 million (USD)\", 1).replace(\"$1 to $5 million (USD)\", 2).replace(\"$5 to $10 million (USD)\", 3).replace(\"$10 to $25 million (USD)\", 4).replace(\"$25 to $50 million (USD)\", 5).replace(\"$50 to $100 million (USD)\", 6).replace(\"$100 to $500 million (USD)\", 7).replace(\"$500 million to $1 billion (USD)\", 8).replace(\"$1 to $2 billion (USD)\", 9).replace(\"$2 to $5 billion (USD)\", 10).replace(\"$5 to $10 billion (USD)\", 11).replace(\"$10+ billion (USD)\", 12)\n",
        "job[\"Size\"] = job[\"Size\"].replace(\"1 to 50 employees\", 1).replace(\"51 to 200 employees\", 2).replace(\"201 to 500 employees\", 3).replace(\"501 to 1000 employees\", 4).replace(\"1001 to 5000 employees\", 5).replace(\"5001 to 10000 employees\", 6).replace(\"10000+ employees\", 7)"
      ],
      "execution_count": null,
      "outputs": []
    },
    {
      "cell_type": "code",
      "metadata": {
        "id": "WOAD8h1cWHEY"
      },
      "source": [
        "job.head()"
      ],
      "execution_count": null,
      "outputs": []
    },
    {
      "cell_type": "markdown",
      "metadata": {
        "id": "MTFOs4wLAdN2"
      },
      "source": [
        "## ※ 2차 데이터 최적화 (데이터 전처리)\n",
        "\n",
        "*   경쟁사(Competitor) : \"-1\"로 되어 있는 데이터는 경쟁사가 없는것으로 판단하여 0으로 처리, 그외 나머지는 경쟁사 수로 데이터 변경\n",
        "*   지원난이도(Easy Apply) : \"-1\"은 어렵다로 판단하여 False로 변경 후 0,1로 변경\n",
        "*   신규 특성 생성 : 본사, 근무하는 회사 일치할 경우 1, 다를 경우 0\n",
        "*   연봉(Salary) : 평균 연봉으로 변경\n",
        "*   회사이름(Company Name) : 회사명 뒤 평점 삭제\n",
        "*   직업 타이틀(Job Title) : 타이틀 뒤 상세사항 삭제\n"
      ]
    },
    {
      "cell_type": "code",
      "metadata": {
        "id": "jgzr7_lKkJQm"
      },
      "source": [
        "def engineering(df):\n",
        "  ### Competitors_counts 생성\n",
        "  df[\"Competitors\"] = df[\"Competitors\"].str.replace(\"-1\", \"\")\n",
        "  divided_competitors = df[\"Competitors\"].str.split(\",\", expand=True)\n",
        "  divided_competitors_bool = divided_competitors.astype(bool)\n",
        "  divided_competitors_bool = divided_competitors_bool.astype(int)\n",
        "  divided_competitors_bool[\"total\"] = divided_competitors_bool[0] + divided_competitors_bool[1] + divided_competitors_bool[2] + divided_competitors_bool[3]\n",
        "  df[\"Competitors_counts\"] = divided_competitors_bool[\"total\"]\n",
        "  df.drop(columns=\"Competitors\", axis=1, inplace=True)\n",
        "\n",
        "  ### changing type(binary)\n",
        "  # Easy Apply True 1, 아니면 0\n",
        "  for i in range(len(df[\"Easy Apply\"])):\n",
        "    if df[\"Easy Apply\"][i] == \"-1\":\n",
        "      df[\"Easy Apply\"][i] = 0\n",
        "    else:\n",
        "      df[\"Easy Apply\"][i] = 1\n",
        "  \n",
        "  ###  Location=Headquaters\n",
        "  # 본사근무 feature 생성\n",
        "  df[\"Location=Headquarters\"] = df[\"Location\"] == df[\"Headquarters\"]\n",
        "  df[\"Location=Headquarters\"] = df[\"Location=Headquarters\"].astype(int)\n",
        "  \n",
        "  ### Salary\n",
        "  # salary단위 연봉정보지만, 일부 시급으로 되어있는 부분 제거\n",
        "  per_hour_index = np.array(df[df[\"Salary Estimate\"].str.contains(\"Per\")].index) \n",
        "  df.drop(index=per_hour_index, inplace=True)\n",
        "  # Glassdoor est.정보가 아닌 employer_est 삭제\n",
        "  employer_est_index = np.array(df[df[\"Salary Estimate\"].str.contains(\"Employer\")].index)\n",
        "  df.drop(index=employer_est_index, inplace=True)\n",
        "  # Salary estimate : min, max, average feature 생성\n",
        "  divided_salary = df[\"Salary Estimate\"].str.replace(r\"\\$|K|\\.|\\(|\\)\", \"\").str.replace(\"Glassdoor est\", \"\").str.split(\"-\", expand=True)\n",
        "  Min_Salary = pd.to_numeric(divided_salary[0]) * 1000\n",
        "  Max_Salary = pd.to_numeric(divided_salary[1]) * 1000\n",
        "  df[\"Average_Salary\"] = (Min_Salary + Max_Salary) / 2\n",
        "  df[\"Average_Salary\"] = df[\"Average_Salary\"].astype(int)\n",
        "  df.drop(columns=\"Salary Estimate\", axis=1, inplace=True) # leakage\n",
        "\n",
        "  \n",
        "  ### Company name\n",
        "  df[\"Company Name\"] = df[\"Company Name\"].str.split(\"\\n\", expand=True).iloc[:, 0] \n",
        "\n",
        "  ### Job Title\n",
        "  divided_title = df[\"Job Title\"].str.split(\",\", expand=True)\n",
        "  divided_title = divided_title[0].str.split(\"-\", expand=True)\n",
        "  divided_title = divided_title[0].str.split(\"(\", expand=True)\n",
        "  divided_title[0] = divided_title[0].str.replace(\"Sr.\", \"Senior \").str.replace(\"Jr.\", \"Junior \")\n",
        "  df[\"Job Title\"] = divided_title[0]\n",
        "\n",
        "  df.index = range(len(df))\n",
        "\n",
        "  return df\n",
        "\n",
        "job_clean = engineering(job)"
      ],
      "execution_count": null,
      "outputs": []
    },
    {
      "cell_type": "code",
      "metadata": {
        "id": "m3rwYeUbIPUp"
      },
      "source": [
        "job_clean"
      ],
      "execution_count": null,
      "outputs": []
    },
    {
      "cell_type": "code",
      "metadata": {
        "id": "r-azZJsi9STv"
      },
      "source": [
        "job_raw.shape[0] - job_clean.shape[0] # 3623 row 삭제"
      ],
      "execution_count": null,
      "outputs": []
    },
    {
      "cell_type": "code",
      "metadata": {
        "id": "xsEOGrXMBBn0"
      },
      "source": [
        "from google.colab import files\n",
        "job_clean.to_csv(\"data_job_group.csv\")\n",
        "files.download(\"data_job_group.csv\")"
      ],
      "execution_count": null,
      "outputs": []
    }
  ]
}