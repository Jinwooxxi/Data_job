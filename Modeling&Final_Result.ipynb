{
  "nbformat": 4,
  "nbformat_minor": 0,
  "metadata": {
    "colab": {
      "name": "Modeling&Final_Result.ipynb",
      "private_outputs": true,
      "provenance": [],
      "collapsed_sections": []
    },
    "kernelspec": {
      "name": "python3",
      "display_name": "Python 3"
    },
    "language_info": {
      "name": "python"
    }
  },
  "cells": [
    {
      "cell_type": "code",
      "metadata": {
        "id": "2Zfm2zkRW7OE"
      },
      "source": [
        "!pip install category_encoders\n",
        "!pip install pdpbox\n",
        "!pip install shap\n",
        "!pip install eli5"
      ],
      "execution_count": null,
      "outputs": []
    },
    {
      "cell_type": "code",
      "metadata": {
        "id": "GrTyalvnXBjq"
      },
      "source": [
        "import pandas as pd\n",
        "import numpy as np\n",
        "import seaborn as sns\n",
        "import re\n",
        "import matplotlib.pyplot as plt\n",
        "import matplotlib as mpl\n",
        "from matplotlib import rcParams\n",
        "from IPython.display import set_matplotlib_formats\n",
        "set_matplotlib_formats('retina')\n",
        "plt.rc('font', family='NanumBarunGothic') \n",
        "mpl.rc('axes', unicode_minus=False)\n",
        "\n",
        "from category_encoders import OneHotEncoder, OrdinalEncoder, TargetEncoder\n",
        "\n",
        "from sklearn.model_selection import train_test_split, GridSearchCV, RandomizedSearchCV, validation_curve, cross_val_score\n",
        "from sklearn.tree import DecisionTreeClassifier, export_graphviz\n",
        "from sklearn.pipeline import make_pipeline\n",
        "from sklearn.ensemble import RandomForestClassifier\n",
        "from sklearn.pipeline import Pipeline\n",
        "from sklearn.metrics import accuracy_score, f1_score, plot_confusion_matrix, classification_report, roc_curve\n",
        "from sklearn.metrics import roc_auc_score, fbeta_score, recall_score, precision_score, confusion_matrix, r2_score\n",
        "\n",
        "from scipy.stats import randint, uniform\n",
        "\n",
        "from xgboost import XGBRegressor, XGBClassifier\n",
        "from pdpbox.pdp import pdp_isolate, pdp_plot, pdp_interact, pdp_interact_plot\n",
        "import shap\n",
        "from eli5.sklearn import PermutationImportance\n",
        "import eli5"
      ],
      "execution_count": null,
      "outputs": []
    },
    {
      "cell_type": "code",
      "metadata": {
        "id": "jgTSUY-VXVoc"
      },
      "source": [
        "from google.colab import drive\n",
        "drive.mount('/content/drive')"
      ],
      "execution_count": null,
      "outputs": []
    },
    {
      "cell_type": "code",
      "metadata": {
        "id": "gycaBiqcXVmA"
      },
      "source": [
        "job_clean = pd.read_csv('/content/drive/My Drive/data_job_group.csv')\n",
        "job_clean"
      ],
      "execution_count": null,
      "outputs": []
    },
    {
      "cell_type": "code",
      "metadata": {
        "id": "wFfqvO39XVjx"
      },
      "source": [
        ""
      ],
      "execution_count": null,
      "outputs": []
    },
    {
      "cell_type": "markdown",
      "metadata": {
        "id": "gASJ560U12OP"
      },
      "source": [
        "### ※ 기준모델 설명 Rating 4.0 이상 만족 & 추천\n"
      ]
    },
    {
      "cell_type": "markdown",
      "metadata": {
        "id": "4SixB5WzLFoN"
      },
      "source": [
        "#### 기준모델 분포 확인 및 평가지표"
      ]
    },
    {
      "cell_type": "code",
      "metadata": {
        "id": "0TofrRbQfe3E"
      },
      "source": [
        "# 4.0 기준으로 1(만족), 0 구분\n",
        "print(job_clean[job_clean[\"Rating\"] >= 4.0].shape[0] / job_clean.shape[0]) # 약 35%\n",
        "\n",
        "# 분포 확인\n",
        "sns.displot(job_clean[\"Rating\"], kde=True);\n",
        "plt.axvline(4.0, color='red');"
      ],
      "execution_count": null,
      "outputs": []
    },
    {
      "cell_type": "code",
      "metadata": {
        "id": "MEzw5DnTfe0k"
      },
      "source": [
        "job_clean[\"Recommend\"] = job_clean[\"Rating\"] >= 4.0\n",
        "job_clean[\"Recommend\"] = job_clean[\"Recommend\"].astype(int)\n",
        "job_clean.head(3)"
      ],
      "execution_count": null,
      "outputs": []
    },
    {
      "cell_type": "code",
      "metadata": {
        "id": "zO-XdXkXy9L-"
      },
      "source": [
        "job_clean.head(3).T"
      ],
      "execution_count": null,
      "outputs": []
    },
    {
      "cell_type": "code",
      "metadata": {
        "id": "ddgyP9nQfex2"
      },
      "source": [
        "job_clean[\"Recommend\"].value_counts()"
      ],
      "execution_count": null,
      "outputs": []
    },
    {
      "cell_type": "code",
      "metadata": {
        "id": "dCiN7S0lpkiW"
      },
      "source": [
        "job_clean[\"Recommend\"].value_counts(normalize=True)"
      ],
      "execution_count": null,
      "outputs": []
    },
    {
      "cell_type": "code",
      "metadata": {
        "id": "jcumox8hw0Of"
      },
      "source": [
        "# baseline model\n",
        "major = job_clean[\"Recommend\"].mode()[0]\n",
        "job_pred = [major] * len(job_clean[\"Recommend\"])\n",
        "print(\"Baseline model accuracy:\", accuracy_score(job_clean[\"Recommend\"], job_pred))\n",
        "print(\"Baseline model f1_score :\", f1_score(job_pred, job_clean[\"Recommend\"]))"
      ],
      "execution_count": null,
      "outputs": []
    },
    {
      "cell_type": "markdown",
      "metadata": {
        "id": "XvAtxWlgtZEu"
      },
      "source": [
        "## ※ baseline model : 0.649"
      ]
    },
    {
      "cell_type": "markdown",
      "metadata": {
        "id": "eqRXRNZ6gmDr"
      },
      "source": [
        "### ※ 데이터 누수 제거\n",
        "\n",
        "\n",
        "*   target이 될 Recommend의 특성과 동일한 Rating을 삭제 함으로써 분류모델에서 정상적인 학습을 할 수 있음\n",
        "\n",
        "\n"
      ]
    },
    {
      "cell_type": "code",
      "metadata": {
        "id": "jwH3d4rO9RvG"
      },
      "source": [
        "job_clean.drop(columns=\"Rating\", axis=1, inplace=True)"
      ],
      "execution_count": null,
      "outputs": []
    },
    {
      "cell_type": "markdown",
      "metadata": {
        "id": "mobeeQ_NlU0a"
      },
      "source": [
        "### ※ 모델링 사전작업\n",
        " - 학습 / 검증 / 테스트(20%) 세트 구성"
      ]
    },
    {
      "cell_type": "code",
      "metadata": {
        "id": "_feotIMg970t"
      },
      "source": [
        "# train, val, test 분리\n",
        "train, test = train_test_split(job_clean, test_size=0.2, random_state=21)\n",
        "train, val = train_test_split(train, test_size=0.2, random_state=21)\n",
        "\n",
        "train.shape, val.shape, test.shape"
      ],
      "execution_count": null,
      "outputs": []
    },
    {
      "cell_type": "code",
      "metadata": {
        "id": "7YXFztQD97uc"
      },
      "source": [
        "target = \"Recommend\"\n",
        "features = train.drop(columns=[target]).columns\n",
        "\n",
        "X_train = train[features]\n",
        "y_train = train[target]\n",
        "X_val = val[features]\n",
        "y_val = val[target]\n",
        "X_test = test[features]\n",
        "y_test = test[target]"
      ],
      "execution_count": null,
      "outputs": []
    },
    {
      "cell_type": "markdown",
      "metadata": {
        "id": "E7euwj0rla4Z"
      },
      "source": [
        "### ※ 모델링 (3가지 모델학습)\n",
        "\n",
        "\n",
        "*   의사결정나무(DesisionTreeClassifier)\n",
        "*   랜덤포레스트 분류기(RandomForesetClassifier)\n",
        "*   XGBboost 분류기(XGBClassifier)\n",
        "\n"
      ]
    },
    {
      "cell_type": "code",
      "metadata": {
        "id": "6tfNn-gHuhbH"
      },
      "source": [
        "val_result = pd.DataFrame({\"모델\" : [\"의사결정나무\", \"랜덤포레스트\", \"XGBoost 분류기\"],\n",
        "                           \"정확도\" : [0.80, 0.80, 0.87],\n",
        "                           \"f1\" : [0.73, 0.74, 0.80],\n",
        "                           \"정밀도\" : [0.68, 0.69, 0.83],\n",
        "                           \"재현율\" : [0.79, 0.79, 0.78],\n",
        "                           \"Rank\" : [3, 2, 1]})\n",
        "\n",
        "print(\"※ 3가지 학습 결과(검증데이터)\\n \")\n",
        "val_result = val_result.sort_values(by=[\"Rank\"], axis=0).set_index(\"Rank\")\n",
        "val_result"
      ],
      "execution_count": null,
      "outputs": []
    },
    {
      "cell_type": "code",
      "metadata": {
        "id": "-ogZP23G8M7u"
      },
      "source": [
        "final_result = pd.DataFrame({\"구분\" : [\"훈련\", \"검증\", \"테스트\"],\n",
        "                             \"정확도\" : [0.91, 0.87, 0.84],\n",
        "                             \"정밀도\" : [\"-\", 0.83, 0.81],\n",
        "                             \"재현율\" : [\"-\", 0.78, 0.73],\n",
        "                             \"f1\" : [0.86, 0.80, 0.76],\n",
        "                             \"AUC\" : [\"-\", 0.93, 0.91]})\n",
        "\n",
        "print(\"※ 최종모델 모델 결과\")\n",
        "final_result.set_index(\"구분\")"
      ],
      "execution_count": null,
      "outputs": []
    },
    {
      "cell_type": "markdown",
      "metadata": {
        "id": "su_hdTni9oyi"
      },
      "source": [
        "## ※ 최종결과\n",
        "\n",
        "\n",
        "1.   정확도 : 훈련, 검증 결과보다는 하락하였으나, 기준모델 0.649보다 향상되었음\n",
        "2.   \"정밀도 > 재현율\" 이 좋은 모델이라 할 수 있음\\\n",
        "   1)   직업에 대해 실제 만족 하면서 비추천 → 정밀도\\\n",
        "   2)   직업에 대해 실제 불만족 하면서 추천 → 재현율\n",
        "3.    AUC : 0.91 (예측을 얼마나 잘 평가하는지 측정하는 점수, 1에 가까울 수록 좋음)"
      ]
    },
    {
      "cell_type": "markdown",
      "metadata": {
        "id": "uRbTXGM97Hqc"
      },
      "source": [
        "#### ※ 3가지 모델 학습"
      ]
    },
    {
      "cell_type": "code",
      "metadata": {
        "id": "1EQyJJMx97p9"
      },
      "source": [
        "pipe_dtc = make_pipeline(OrdinalEncoder(),\n",
        "                         DecisionTreeClassifier(random_state=21,\n",
        "                                                max_depth = 10))\n",
        "\n",
        "pipe_dtc.fit(X_train, y_train)\n",
        "y_pred = pipe_dtc.predict(X_val)\n",
        "\n",
        "print(\"훈련 정확도 : \", pipe_dtc.score(X_train, y_train))\n",
        "print(\"검증 정확도 : \", pipe_dtc.score(X_val, y_val))\n",
        "print()\n",
        "print(\"훈련 f1_score : \", f1_score(pipe_dtc.predict(X_train), y_train))\n",
        "print(\"검증 f1_score : \", f1_score(pipe_dtc.predict(X_val), y_val))\n",
        "print()\n",
        "print(classification_report(y_val, y_pred))"
      ],
      "execution_count": null,
      "outputs": []
    },
    {
      "cell_type": "code",
      "metadata": {
        "id": "bqCjI9QYPU6b"
      },
      "source": [
        "pipe_rfc = make_pipeline(OrdinalEncoder(),\n",
        "                         RandomForestClassifier(max_depth = 7,\n",
        "                                                n_jobs=-1,\n",
        "                                                random_state=21,\n",
        "                                                oob_score=True,\n",
        "                                                class_weight=\"balanced\"))\n",
        "\n",
        "pipe_rfc.fit(X_train, y_train)\n",
        "y_pred = pipe_rfc.predict(X_val)\n",
        "\n",
        "print(\"훈련 정확도 : \", pipe_rfc.score(X_train, y_train))\n",
        "print(\"검증 정확도 : \", pipe_rfc.score(X_val, y_val))\n",
        "print()\n",
        "print(\"훈련 f1_score : \", f1_score(pipe_rfc.predict(X_train), y_train))\n",
        "print(\"검증 f1_score : \", f1_score(pipe_rfc.predict(X_val), y_val))\n",
        "print()\n",
        "print(classification_report(y_val, y_pred))"
      ],
      "execution_count": null,
      "outputs": []
    },
    {
      "cell_type": "code",
      "metadata": {
        "id": "aesLq1mCPU0y"
      },
      "source": [
        "pipe_xgb = make_pipeline(OrdinalEncoder(),\n",
        "                         XGBClassifier(max_depth=5,\n",
        "                                       n_estimators=600,\n",
        "                                       random_state=21,\n",
        "                                       learning_rate=0.2,\n",
        "                                       min_child_weight=100,\n",
        "                                       n_jobs=-1))\n",
        "\n",
        "pipe_xgb.fit(X_train, y_train)\n",
        "y_pred = pipe_xgb.predict(X_val)\n",
        "\n",
        "print(\"훈련 정확도 : \", pipe_xgb.score(X_train, y_train))\n",
        "print(\"검증 정확도 : \", pipe_xgb.score(X_val, y_val))\n",
        "print()\n",
        "print(\"훈련 f1_score : \", f1_score(pipe_xgb.predict(X_train), y_train))\n",
        "print(\"검증 f1_score : \", f1_score(pipe_xgb.predict(X_val), y_val))\n",
        "print()\n",
        "print(classification_report(y_val, y_pred))"
      ],
      "execution_count": null,
      "outputs": []
    },
    {
      "cell_type": "code",
      "metadata": {
        "id": "7qaXsiFXPUsA"
      },
      "source": [
        "# %%time\n",
        "\n",
        "# pipe = Pipeline([(\"encoder\", OrdinalEncoder()),\n",
        "#                  (\"xgb\", XGBClassifier(random_state=21,\n",
        "#                                       n_jobs=-1))])\n",
        "\n",
        "# param_grid = {\"xgb__n_estimators\" : [200, 300, 400, 500, 600, 700, 800, 900, 1000],\n",
        "#               \"xgb__max_depth\" : [3,4,5,6,7,8,9,10],\n",
        "#               \"xgb__learning_rate\" : [0.001, 0.005, 0.01, 0.05, 0.1, 0.15, 0.2, 0.5, 0.7, 1.0],\n",
        "#               \"xgb__min_child_weight\" : randint(10, 200),\n",
        "#               \"xgb__min_split_loss\" : randint(10, 200),\n",
        "#               \"xgb__subsample\" : [0.5, 0.6, 0.7, 0.8, 0.9, 1.0]\n",
        "#               }\n",
        "\n",
        "# clf = RandomizedSearchCV(pipe,\n",
        "#                          param_grid,\n",
        "#                          n_iter=50,\n",
        "#                          cv=3,\n",
        "#                          scoring = \"f1\",\n",
        "#                          verbose=1,\n",
        "#                          n_jobs=-1)\n",
        "\n",
        "# clf.fit(X_train, y_train)\n",
        "\n",
        "# print('최적 하이퍼파라미터: ', clf.best_params_)\n",
        "# print('f1_score: ', clf.best_score_)\n",
        "# print()\n",
        "# print('훈련 정확도', clf.score(X_train, y_train))\n",
        "# print('검증 정확도', clf.score(X_val, y_val))\n",
        "\n"
      ],
      "execution_count": null,
      "outputs": []
    },
    {
      "cell_type": "code",
      "metadata": {
        "id": "1J5LAukWlXoc"
      },
      "source": [
        "k = 3\n",
        "\n",
        "scores = cross_val_score(pipe_xgb, X_train, y_train, cv=k, scoring=\"f1\")\n",
        "\n",
        "print(\"F1_score for {} folds\".format(k), scores)"
      ],
      "execution_count": null,
      "outputs": []
    },
    {
      "cell_type": "code",
      "metadata": {
        "id": "RmrcJUnwPUnp"
      },
      "source": [
        "scores = cross_val_score(pipe_xgb, X_train, y_train, cv=k, scoring=\"accuracy\")\n",
        "\n",
        "print(\"Accuracy for {} folds\".format(k), scores)"
      ],
      "execution_count": null,
      "outputs": []
    },
    {
      "cell_type": "code",
      "metadata": {
        "id": "p0GhoxUfPUjp"
      },
      "source": [
        "fig, ax = plt.subplots()\n",
        "pcm = plot_confusion_matrix(pipe_xgb, X_val, y_val,\n",
        "                            cmap=plt.cm.Blues,\n",
        "                            ax=ax,\n",
        "                            values_format=\"d\");\n",
        "plt.title(f'Confusion matrix, n = {len(y_val)}', fontsize=15)\n",
        "plt.show()"
      ],
      "execution_count": null,
      "outputs": []
    },
    {
      "cell_type": "code",
      "metadata": {
        "id": "Vh_uMS7PHvwS"
      },
      "source": [
        "cm = pcm.confusion_matrix\n",
        "\n",
        "total = cm.sum()\n",
        "correct_prediction = np.diag(cm).sum()\n",
        "\n",
        "accuracy = correct_prediction / total                # 정확도 : 전체 범주를 모두 바르게 맞춘 경우를 전체 수로 나눈 값\n",
        "precision = cm[1][1] / (cm[0][1] + cm[1][1])         # 정밀도 : 1로 예측한 경우 올바르게 1을 맞춘 비율\n",
        "recall = cm[1][1] / (cm[1][0] + cm[1][1])            # 재현율 : 실제 1인 것 중 1로 올바르게 맞춘 비율 \n",
        "f1 = 2 * (precision * recall) / (precision + recall) # F1점수 : 정밀도와 재현율의 조화평균\n",
        "\n",
        "\n",
        "print(\"정확도 : \", accuracy)\n",
        "print(\"정밀도 : \", precision)\n",
        "print(\"재현율 : \", recall)\n",
        "print(\"f1_score : \", f1)"
      ],
      "execution_count": null,
      "outputs": []
    },
    {
      "cell_type": "code",
      "metadata": {
        "id": "tDx_5HxZIqge"
      },
      "source": [
        "cm[0][1], cm[1][1]"
      ],
      "execution_count": null,
      "outputs": []
    },
    {
      "cell_type": "code",
      "metadata": {
        "id": "BbmLyEm4PUfg"
      },
      "source": [
        "y_val_pred_proba = pipe_xgb.predict_proba(X_val)[:,1]\n",
        "\n",
        "fpr, tpr, thresholds = roc_curve(y_val, y_val_pred_proba)\n",
        "\n",
        "roc = pd.DataFrame({\"FPR\" : fpr,\n",
        "                    \"TPR(recall)\" : tpr,\n",
        "                    \"Threshold\" : thresholds})\n",
        "\n",
        "plt.scatter(fpr, tpr)\n",
        "plt.title('ROC curve')\n",
        "plt.xlabel('FPR(Fall-out)')\n",
        "plt.ylabel('TPR(Recall)');"
      ],
      "execution_count": null,
      "outputs": []
    },
    {
      "cell_type": "code",
      "metadata": {
        "id": "JS6BEBaDSR69"
      },
      "source": [
        "# threshold 최대값의 인덱스, np.argmax()\n",
        "optimal_idx = np.argmax(tpr - fpr)\n",
        "optimal_threshold = thresholds[optimal_idx]\n",
        "\n",
        "print('idx:', optimal_idx, ', threshold:', optimal_threshold)\n",
        "print(\"AUC : \", roc_auc_score(y_val, y_val_pred_proba))\n",
        "\n",
        "y_pred_optimal = y_val_pred_proba >= optimal_threshold\n",
        "print(classification_report(y_val, y_pred_optimal))"
      ],
      "execution_count": null,
      "outputs": []
    },
    {
      "cell_type": "code",
      "metadata": {
        "id": "kSWr05-1G4hE"
      },
      "source": [
        "pipe_xgb = make_pipeline(OrdinalEncoder(),\n",
        "                         XGBClassifier(max_depth=5,\n",
        "                                       n_estimators=600,\n",
        "                                       random_state=21,\n",
        "                                       learning_rate=0.2,\n",
        "                                       min_child_weight=100,\n",
        "                                       n_jobs=-1))\n",
        "\n",
        "pipe_xgb.fit(X_train, y_train)\n",
        "y_pred = pipe_xgb.predict(X_test)\n",
        "\n",
        "print(\"훈련 정확도 : \", pipe_xgb.score(X_train, y_train))\n",
        "print(\"검증 정확도 : \", pipe_xgb.score(X_val, y_val))\n",
        "print(\"테스트 정확도 : \", pipe_xgb.score(X_test, y_test))\n",
        "print()\n",
        "print(\"훈련 f1_score : \", f1_score(pipe_xgb.predict(X_train), y_train))\n",
        "print(\"검증 f1_score : \", f1_score(pipe_xgb.predict(X_val), y_val))\n",
        "print(\"테스트 f1_score : \", f1_score(pipe_xgb.predict(X_test), y_test))\n",
        "print()\n",
        "print(classification_report(y_test, y_pred))"
      ],
      "execution_count": null,
      "outputs": []
    },
    {
      "cell_type": "code",
      "metadata": {
        "id": "jmFCeT2SG4cd"
      },
      "source": [
        "y_test_pred_proba = pipe_xgb.predict_proba(X_test)[:,1]\n",
        "\n",
        "fpr, tpr, thresholds = roc_curve(y_test, y_test_pred_proba)\n",
        "\n",
        "roc = pd.DataFrame({\"FPR\" : fpr,\n",
        "                    \"TPR(recall)\" : tpr,\n",
        "                    \"Threshold\" : thresholds})\n",
        "\n",
        "plt.scatter(fpr, tpr)\n",
        "plt.title('ROC curve')\n",
        "plt.xlabel('FPR(Fall-out)')\n",
        "plt.ylabel('TPR(Recall)');"
      ],
      "execution_count": null,
      "outputs": []
    },
    {
      "cell_type": "code",
      "metadata": {
        "id": "AXt4V6tuG4Wf"
      },
      "source": [
        "# threshold 최대값의 인덱스, np.argmax()\n",
        "optimal_idx = np.argmax(tpr - fpr)\n",
        "optimal_threshold = thresholds[optimal_idx]\n",
        "\n",
        "print('idx:', optimal_idx, ', threshold:', optimal_threshold)\n",
        "print(\"AUC : \", roc_auc_score(y_test, y_test_pred_proba))\n",
        "\n",
        "y_pred_optimal = y_test_pred_proba >= optimal_threshold\n",
        "print(classification_report(y_test, y_pred_optimal))"
      ],
      "execution_count": null,
      "outputs": []
    },
    {
      "cell_type": "code",
      "metadata": {
        "id": "G6-iAU9qG4RP"
      },
      "source": [
        ""
      ],
      "execution_count": null,
      "outputs": []
    },
    {
      "cell_type": "code",
      "metadata": {
        "id": "dI3XsPihG4L8"
      },
      "source": [
        ""
      ],
      "execution_count": null,
      "outputs": []
    },
    {
      "cell_type": "code",
      "metadata": {
        "id": "wAjGiercPUWk"
      },
      "source": [
        ""
      ],
      "execution_count": null,
      "outputs": []
    },
    {
      "cell_type": "markdown",
      "metadata": {
        "id": "8h68NNOg_aVm"
      },
      "source": [
        "# 모델 해석"
      ]
    },
    {
      "cell_type": "code",
      "metadata": {
        "id": "vrvpjeQd97aG"
      },
      "source": [
        "# permutation importance\n",
        "permuter = PermutationImportance(pipe_xgb.named_steps[\"xgbclassifier\"],\n",
        "                                 scoring=\"f1\",\n",
        "                                 n_iter=5,\n",
        "                                 random_state=21)\n",
        "X_val_encoded = pipe_xgb.named_steps['ordinalencoder'].transform(X_val)\n",
        "X_test_encoded = pipe_xgb.named_steps['ordinalencoder'].transform(X_test)\n",
        "\n",
        "permuter.fit(X_val_encoded, y_val)\n",
        "\n",
        "feature_names = list(X_val.columns)\n",
        "eli5.show_weights(permuter,\n",
        "                  top=None,\n",
        "                  feature_names=feature_names)"
      ],
      "execution_count": null,
      "outputs": []
    },
    {
      "cell_type": "code",
      "metadata": {
        "id": "s8ICzO1c97V4"
      },
      "source": [
        "feature = \"Size\"\n",
        "\n",
        "isolated = pdp_isolate(pipe_xgb,\n",
        "                       dataset=X_val_encoded,\n",
        "                       feature=feature,\n",
        "                       model_features=X_val.columns,\n",
        "                       grid_type=\"percentile\",\n",
        "                       num_grid_points=10)\n",
        "\n",
        "pdp_plot(isolated, feature_name=feature);"
      ],
      "execution_count": null,
      "outputs": []
    },
    {
      "cell_type": "code",
      "metadata": {
        "id": "gABUefBpBmL4"
      },
      "source": [
        "pdp_plot(isolated\n",
        "         , feature_name=feature\n",
        "         , plot_lines=True # ICE plots\n",
        "         , frac_to_plot=0.01 # or 10 (# 10000 val set * 0.001)\n",
        "         , plot_pts_dist=True);"
      ],
      "execution_count": null,
      "outputs": []
    },
    {
      "cell_type": "code",
      "metadata": {
        "id": "XfAeOTDBF54R"
      },
      "source": [
        "feature = \"Revenue\"\n",
        "\n",
        "isolated = pdp_isolate(pipe_xgb,\n",
        "                       dataset=X_val_encoded,\n",
        "                       feature=feature,\n",
        "                       model_features=X_val.columns,\n",
        "                       grid_type=\"percentile\",\n",
        "                       num_grid_points=10)\n",
        "\n",
        "pdp_plot(isolated, feature_name=feature);"
      ],
      "execution_count": null,
      "outputs": []
    },
    {
      "cell_type": "code",
      "metadata": {
        "id": "NMxXmPkNGCGI"
      },
      "source": [
        "pdp_plot(isolated\n",
        "         , feature_name=feature\n",
        "         , plot_lines=True # ICE plots\n",
        "         , frac_to_plot= 0.01 # or 10 (# 10000 val set * 0.001)\n",
        "         , plot_pts_dist=True);"
      ],
      "execution_count": null,
      "outputs": []
    },
    {
      "cell_type": "code",
      "metadata": {
        "id": "k0_HJk7AGKLW"
      },
      "source": [
        "feature = \"Average_Salary\"\n",
        "\n",
        "isolated = pdp_isolate(pipe_xgb,\n",
        "                       dataset=X_val,\n",
        "                       feature=feature,\n",
        "                       model_features=X_val.columns,\n",
        "                       grid_type=\"percentile\",\n",
        "                       num_grid_points=20)\n",
        "\n",
        "pdp_plot(isolated, feature_name=feature);"
      ],
      "execution_count": null,
      "outputs": []
    },
    {
      "cell_type": "code",
      "metadata": {
        "id": "aQTYmz8yBUKf"
      },
      "source": [
        "pdp_plot(isolated\n",
        "         , feature_name=feature\n",
        "         , plot_lines=True # ICE plots\n",
        "         , frac_to_plot= 0.01 # or 10 (# 10000 val set * 0.001)\n",
        "         , plot_pts_dist=True);"
      ],
      "execution_count": null,
      "outputs": []
    },
    {
      "cell_type": "code",
      "metadata": {
        "id": "2UJing9wGKCT"
      },
      "source": [
        "features_pdp = [\"Size\", \"Average_Salary\"] # Average_Salary\n",
        "\n",
        "interaction = pdp_interact(model=pipe_xgb,\n",
        "                          dataset=X_val,\n",
        "                          model_features=X_val.columns,\n",
        "                          features=features_pdp)\n",
        "\n",
        "pdp_interact_plot(interaction, plot_type='grid', feature_names=features_pdp);"
      ],
      "execution_count": null,
      "outputs": []
    },
    {
      "cell_type": "code",
      "metadata": {
        "id": "EFWACxAeKRZG"
      },
      "source": [
        ""
      ],
      "execution_count": null,
      "outputs": []
    },
    {
      "cell_type": "code",
      "metadata": {
        "id": "Yu0qh8tOKRQn"
      },
      "source": [
        "# 그렇다면 실제 추천, 비추천 하는 사람들의 데이터 중 어떤 특성들이 큰 영향을 끼치는지 확인해 보겠습니다."
      ],
      "execution_count": null,
      "outputs": []
    },
    {
      "cell_type": "code",
      "metadata": {
        "id": "5HPcbVcdFy1p"
      },
      "source": [
        "idx = X_test.index\n",
        "\n",
        "df_p = pd.DataFrame({\"Index\" : idx,\n",
        "                     \"pred_proba\" : y_test_pred_proba,\n",
        "                     \"status_group\" : y_test})\n",
        "\n",
        "df_p = df_p.merge(job_clean[list(job_clean.columns)], left_index=True, right_index=True)"
      ],
      "execution_count": null,
      "outputs": []
    },
    {
      "cell_type": "code",
      "metadata": {
        "id": "PvajrByja3Pp"
      },
      "source": [
        "df_p"
      ],
      "execution_count": null,
      "outputs": []
    },
    {
      "cell_type": "code",
      "metadata": {
        "id": "EA-6-T18JVYz"
      },
      "source": [
        "recommend = df_p['status_group'] == 1\n",
        "unrecommend = ~recommend\n",
        "right = recommend == (df_p['pred_proba'] > 0.50)\n",
        "wrong = ~right"
      ],
      "execution_count": null,
      "outputs": []
    },
    {
      "cell_type": "code",
      "metadata": {
        "id": "luuR1RkWJ7g1"
      },
      "source": [
        "df_p[recommend & right].sample(n=5, random_state=21).sort_values(by='pred_proba')"
      ],
      "execution_count": null,
      "outputs": []
    },
    {
      "cell_type": "code",
      "metadata": {
        "id": "-FcKzQzZGJ9s"
      },
      "source": [
        "row1 = X_test_encoded.loc[[3560]]\n",
        "row1"
      ],
      "execution_count": null,
      "outputs": []
    },
    {
      "cell_type": "code",
      "metadata": {
        "id": "xlVOf6qPGJ5D"
      },
      "source": [
        "xgb = pipe_xgb.named_steps[\"xgbclassifier\"]\n",
        "\n",
        "explainer = shap.TreeExplainer(xgb)\n",
        "shap_values = explainer.shap_values(row1)\n",
        "\n",
        "shap.initjs()\n",
        "shap.force_plot(\n",
        "    base_value=explainer.expected_value, \n",
        "    shap_values=shap_values,\n",
        "    features=row1\n",
        ")"
      ],
      "execution_count": null,
      "outputs": []
    },
    {
      "cell_type": "code",
      "metadata": {
        "id": "15opBBkiYeAq"
      },
      "source": [
        "row2 = X_test_encoded.loc[[427]]\n",
        "row2"
      ],
      "execution_count": null,
      "outputs": []
    },
    {
      "cell_type": "code",
      "metadata": {
        "id": "6OBUb0v1Yxn-"
      },
      "source": [
        "xgb = pipe_xgb.named_steps[\"xgbclassifier\"]\n",
        "\n",
        "explainer = shap.TreeExplainer(xgb)\n",
        "shap_values = explainer.shap_values(row2)\n",
        "\n",
        "shap.initjs()\n",
        "shap.force_plot(\n",
        "    base_value=explainer.expected_value, \n",
        "    shap_values=shap_values,\n",
        "    features=row2\n",
        ")"
      ],
      "execution_count": null,
      "outputs": []
    },
    {
      "cell_type": "code",
      "metadata": {
        "id": "MIFbgZZsM_cQ"
      },
      "source": [
        "df_p[unrecommend & right].sample(n=5, random_state=21).sort_values(by='pred_proba')"
      ],
      "execution_count": null,
      "outputs": []
    },
    {
      "cell_type": "code",
      "metadata": {
        "id": "4EMPcag2M_O0"
      },
      "source": [
        "row3 = X_test_encoded.loc[[8813]]\n",
        "row3"
      ],
      "execution_count": null,
      "outputs": []
    },
    {
      "cell_type": "code",
      "metadata": {
        "id": "gd0uPuYbNOCp"
      },
      "source": [
        "xgb = pipe_xgb.named_steps[\"xgbclassifier\"]\n",
        "\n",
        "explainer = shap.TreeExplainer(xgb)\n",
        "shap_values = explainer.shap_values(row3)\n",
        "\n",
        "shap.initjs()\n",
        "shap.force_plot(\n",
        "    base_value=explainer.expected_value, \n",
        "    shap_values=shap_values,\n",
        "    features=row3\n",
        ")"
      ],
      "execution_count": null,
      "outputs": []
    },
    {
      "cell_type": "code",
      "metadata": {
        "id": "_v29Bhy6ZTF-"
      },
      "source": [
        "row4 = X_test_encoded.loc[[71]]\n",
        "row4"
      ],
      "execution_count": null,
      "outputs": []
    },
    {
      "cell_type": "code",
      "metadata": {
        "id": "ibhcNPqLZTF-"
      },
      "source": [
        "xgb = pipe_xgb.named_steps[\"xgbclassifier\"]\n",
        "\n",
        "explainer = shap.TreeExplainer(xgb)\n",
        "shap_values = explainer.shap_values(row4)\n",
        "\n",
        "shap.initjs()\n",
        "shap.force_plot(\n",
        "    base_value=explainer.expected_value, \n",
        "    shap_values=shap_values,\n",
        "    features=row4\n",
        ")"
      ],
      "execution_count": null,
      "outputs": []
    },
    {
      "cell_type": "code",
      "metadata": {
        "id": "p1QTepVSZR9_"
      },
      "source": [
        ""
      ],
      "execution_count": null,
      "outputs": []
    },
    {
      "cell_type": "code",
      "metadata": {
        "id": "FDTnxCgYGJ0U"
      },
      "source": [
        "shap_values = explainer.shap_values(X_val_encoded)\n",
        "shap.summary_plot(shap_values, X_val_encoded, plot_type=\"violin\")"
      ],
      "execution_count": null,
      "outputs": []
    },
    {
      "cell_type": "code",
      "metadata": {
        "id": "xR0p9lzIP371"
      },
      "source": [
        "shap_values = explainer.shap_values(X_test_encoded)\n",
        "shap.summary_plot(shap_values, X_train, plot_type=\"bar\")"
      ],
      "execution_count": null,
      "outputs": []
    },
    {
      "cell_type": "code",
      "metadata": {
        "id": "OSsXFGTm97RG"
      },
      "source": [
        "importance = pd.Series(pipe_xgb.named_steps[\"xgbclassifier\"].feature_importances_, X_val_encoded.columns)\n",
        "\n",
        "plt.figure(figsize=(10, 10))\n",
        "\n",
        "importance.sort_values().plot.barh();"
      ],
      "execution_count": null,
      "outputs": []
    },
    {
      "cell_type": "code",
      "metadata": {
        "id": "bM6RT_czXVhf"
      },
      "source": [
        ""
      ],
      "execution_count": null,
      "outputs": []
    },
    {
      "cell_type": "code",
      "metadata": {
        "id": "_sgS0wA8XVff"
      },
      "source": [
        ""
      ],
      "execution_count": null,
      "outputs": []
    },
    {
      "cell_type": "code",
      "metadata": {
        "id": "jPNySBbDXVc7"
      },
      "source": [
        ""
      ],
      "execution_count": null,
      "outputs": []
    },
    {
      "cell_type": "code",
      "metadata": {
        "id": "Dj9tcaxwXVa4"
      },
      "source": [
        ""
      ],
      "execution_count": null,
      "outputs": []
    },
    {
      "cell_type": "code",
      "metadata": {
        "id": "WSsxtEXsXVYA"
      },
      "source": [
        ""
      ],
      "execution_count": null,
      "outputs": []
    },
    {
      "cell_type": "code",
      "metadata": {
        "id": "3RU4jVk1XVVz"
      },
      "source": [
        ""
      ],
      "execution_count": null,
      "outputs": []
    },
    {
      "cell_type": "code",
      "metadata": {
        "id": "LMc6t61lXVTZ"
      },
      "source": [
        ""
      ],
      "execution_count": null,
      "outputs": []
    },
    {
      "cell_type": "code",
      "metadata": {
        "id": "6oRjsoW8XVRQ"
      },
      "source": [
        ""
      ],
      "execution_count": null,
      "outputs": []
    },
    {
      "cell_type": "code",
      "metadata": {
        "id": "r5SS41NzXVPB"
      },
      "source": [
        ""
      ],
      "execution_count": null,
      "outputs": []
    },
    {
      "cell_type": "code",
      "metadata": {
        "id": "1aUDHtLGXVMt"
      },
      "source": [
        ""
      ],
      "execution_count": null,
      "outputs": []
    },
    {
      "cell_type": "code",
      "metadata": {
        "id": "neScTD9iXVKZ"
      },
      "source": [
        ""
      ],
      "execution_count": null,
      "outputs": []
    },
    {
      "cell_type": "code",
      "metadata": {
        "id": "t-nxcxt2XVIS"
      },
      "source": [
        ""
      ],
      "execution_count": null,
      "outputs": []
    },
    {
      "cell_type": "code",
      "metadata": {
        "id": "JkBjDzOiXVF6"
      },
      "source": [
        ""
      ],
      "execution_count": null,
      "outputs": []
    },
    {
      "cell_type": "code",
      "metadata": {
        "id": "oE7dRogmXVDN"
      },
      "source": [
        ""
      ],
      "execution_count": null,
      "outputs": []
    },
    {
      "cell_type": "code",
      "metadata": {
        "id": "ZXfiuyD8XUi-"
      },
      "source": [
        ""
      ],
      "execution_count": null,
      "outputs": []
    }
  ]
}